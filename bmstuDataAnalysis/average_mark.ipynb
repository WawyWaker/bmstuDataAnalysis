{
 "cells": [
  {
   "cell_type": "code",
   "execution_count": 1,
   "metadata": {
    "collapsed": true,
    "pycharm": {
     "name": "#%%\n"
    }
   },
   "outputs": [],
   "source": [
    "import matplotlib.pyplot as plt\n",
    "import pandas as pd\n",
    "import sklearn.tree\n",
    "\n",
    "from helper import *\n",
    "import swifter"
   ]
  },
  {
   "cell_type": "code",
   "execution_count": 2,
   "outputs": [],
   "source": [
    "# read the dataframe that contains all mechanical engineering students\n",
    "df = pd.read_csv(\"МТ.txt\", encoding=\"UTF-8\", index_col=0, low_memory=False)\n",
    "df.head(3)\n",
    "\n",
    "# first corrections of the dataframe\n",
    "df.rename(columns={'#Группы' : 'g_id',\n",
    "                   '#Сессии' : 's_id',\n",
    "                   'Номер зачетки' : 'st_id',\n",
    "                   'ФИО' : 'name'},\n",
    "          inplace=True);\n",
    "\n",
    "df = df.replace({'5.0' : 5.0, '4.0' : 4.0, '3.0' : 3.0,\n",
    "                 '5' : 5.0, '4' : 4.0, '3' : 3.0,\n",
    "                 'False' : False, 'True' : True,\n",
    "                 '\\xa0\\xa0\\xa0\\xa0' : float(\"nan\")})"
   ],
   "metadata": {
    "collapsed": false,
    "pycharm": {
     "name": "#%%\n"
    }
   }
  },
  {
   "cell_type": "code",
   "execution_count": 3,
   "outputs": [],
   "source": [
    "# adjust marks: the same subject can be both a categorical or a value type feature depending on the department and year\n",
    "\n",
    "grouped_students = df.groupby([\"g_id\", \"s_id\"])\n",
    "\n",
    "def adjust_group(gr: pd.DataFrame):\n",
    "    gr_ = gr.dropna(axis=1, how=\"all\")\n",
    "    return gr_.apply(lambda col:\n",
    "                        col.map(lambda mark: mark if type(mark) == float or pd.isna(mark)\n",
    "                            else 2.0)\n",
    "                        if col.map(lambda mark: type(mark) == float and not pd.isna(mark)).any()\n",
    "                            else (col.map(lambda mark: mark if type(mark) == bool or pd.isna(mark)\n",
    "                                else False))\n",
    "                            if col.name not in [\"g_id\", \"s_id\", \"name\", \"st_id\"]\n",
    "                                else col)\n",
    "\n",
    "df = grouped_students.apply(adjust_group)\n",
    "df.to_csv(\"adj_MT.csv\", encoding=\"UTF-8\")"
   ],
   "metadata": {
    "collapsed": false,
    "pycharm": {
     "name": "#%%\n"
    }
   }
  },
  {
   "cell_type": "code",
   "execution_count": 4,
   "outputs": [],
   "source": [
    "# add a column of Group objects that encapsulate some logics\n",
    "\n",
    "df[\"g_obj\"] = df.g_id.apply(lambda gid: Group.from_string(gid))\n",
    "# df[\"g_obj\"].astype(type(Group))"
   ],
   "metadata": {
    "collapsed": false,
    "pycharm": {
     "name": "#%%\n"
    }
   }
  },
  {
   "cell_type": "code",
   "execution_count": 5,
   "outputs": [],
   "source": [
    "# in order to predict the average mark of student we should include only data that contains all study years.\n",
    "# group students by unique student id ant drop students that didn't pass the study course\n",
    "\n",
    "# drop students who haven't passed exams and students with absent data\n",
    "students = df.loc[(df.apply(lambda row: row.map(lambda mark: mark != 2.0 and mark != False).all(), axis=1)) & df.s_id <= 31]\n",
    "\n",
    "# drop students who haven't completed the whole study course (8 semesters for bachelors and 12 for specialists)\n",
    "tmp_groups = students.groupby(\"st_id\").filter(lambda gr: gr.shape[0] == 8 or gr.shape[0] == 12).groupby(\"st_id\")\n",
    "\n",
    "filtered_students: list[pd.DataFrame] = []\n",
    "\n",
    "for n, gr in tmp_groups:\n",
    "    fltr = gr.dropna(axis=1, how=\"all\")\n",
    "\n",
    "    ses_seq = fltr.g_obj.map(lambda gobj: gobj.ses_id).sort_values().tolist()\n",
    "    is_seq = ses_seq == list(range(1, 9, 1)) or ses_seq == list(range(1, 13, 1))\n",
    "    if not is_seq: continue\n",
    "\n",
    "    is_bac = fltr.g_id.apply(lambda gid: Group.from_string(gid).is_bac).any()\n",
    "    is_sp = fltr.g_id.apply(lambda gid: Group.from_string(gid).is_sp).all()\n",
    "\n",
    "    if (is_bac and fltr.shape[0] >= 8) or (is_sp and fltr.shape[0] >= 12):\n",
    "        filtered_students.append(fltr)\n",
    "\n",
    "filt = pd.concat(filtered_students)"
   ],
   "metadata": {
    "collapsed": false,
    "pycharm": {
     "name": "#%%\n"
    }
   }
  },
  {
   "cell_type": "code",
   "execution_count": 7,
   "outputs": [],
   "source": [
    "# show students who had gaps during the study course\n",
    "\n",
    "non_cons = []\n",
    "\n",
    "for fs in filtered_students:\n",
    "    s = fs.sort_values(\"s_id\")\n",
    "    ses_len = fs[\"s_id\"].shape[0]\n",
    "    seq = range(s.iloc[0][\"s_id\"], s.iloc[0][\"s_id\"] + ses_len, 1)\n",
    "    if s[\"s_id\"].tolist() != list(seq):\n",
    "        non_cons.append(s)"
   ],
   "metadata": {
    "collapsed": false,
    "pycharm": {
     "name": "#%%\n"
    }
   }
  },
  {
   "cell_type": "code",
   "execution_count": 266,
   "outputs": [],
   "source": [
    "# let's define features\n",
    "# all operations will be performed on each student so let's define a pd.groupby object to work with\n",
    "students = filt.groupby([\"st_id\"])\n",
    "\n",
    "# let's choose student's id as unique identifier\n",
    "st_id_ser = pd.Series(list(students.groups.keys()))\n",
    "study_df = pd.DataFrame(index=st_id_ser)"
   ],
   "metadata": {
    "collapsed": false,
    "pycharm": {
     "name": "#%%\n"
    }
   }
  },
  {
   "cell_type": "code",
   "execution_count": 511,
   "outputs": [],
   "source": [
    "# objective function: minimize(|real_mean - predicted_mean|) -> we need to define mean mark for each student\n",
    "\n",
    "def calc_student_mean(st: pd.DataFrame, t_num : int = 12) -> float:\n",
    "    # sort marks by the number of term (some subjects can repeat -> choose the last mark)\n",
    "    subjs = st.dropna(axis=1, how=\"all\").loc[st.g_obj.apply(lambda gobj: gobj.ses_id) <= t_num, :].sort_values(\"s_id\", ascending=False).iloc[:, 4:]\n",
    "    exam_subjs = subjs.loc[:, subjs.apply(lambda subj: subj.map(lambda mark: type(mark) == float and not pd.isna(mark)).any())]\n",
    "    return exam_subjs.apply(lambda col: next(mark for mark in col.tolist() if type(mark) == float and not pd.isna(mark))).mean()\n",
    "\n",
    "study_df[\"mean\"] = students.apply(calc_student_mean)\n",
    "\n",
    "# it is also important to know mean mark of the first and the most complicated years at the university\n",
    "\n",
    "study_df[\"f_mean\"] = students.apply(lambda st_gr: calc_student_mean(st_gr, 2))\n",
    "study_df[\"s_mean\"] = students.apply(lambda st_gr: calc_student_mean(st_gr, 4))"
   ],
   "metadata": {
    "collapsed": false,
    "pycharm": {
     "name": "#%%\n"
    }
   }
  },
  {
   "cell_type": "code",
   "execution_count": 275,
   "outputs": [],
   "source": [
    "# let's define the most complicate subjects of the first year in order determine what subject should we include in our model\n",
    "\n",
    "exams = filt.loc[:, filt.apply(lambda col:\n",
    "                        col.map(lambda mark: type(mark) == float and not pd.isna(mark)).any() or col.name == \"g_obj\")]\n",
    "\n",
    "exams.loc[exams.g_obj.map(lambda gobj: gobj.ses_id) <= 2].\\\n",
    "      apply(lambda col: col.loc[col.map(lambda mark: type(mark) == float)].mean()).\\\n",
    "      sort_values(ascending=True)\n",
    "\n",
    "# let's add math, mechanics and physics marks as features\n",
    "study_df[\"math\"] = students.apply(lambda gr: next((mark for mark in gr.sort_values(\"s_id\")[\"Математический анализ\"].tolist()\n",
    "                                                   if type(mark) == float and not pd.isna(mark)), float(\"nan\")))\n",
    "study_df[\"mech\"] = students.apply(lambda gr: next((mark for mark in gr.sort_values(\"s_id\")[\"Теоретическая механика\"].tolist()\n",
    "                                                   if type(mark) == float and not pd.isna(mark)), float(\"nan\")))\n",
    "study_df[\"phys\"] = students.apply(lambda gr: next((mark for mark in gr.sort_values(\"s_id\")[\"Физика\"].tolist()\n",
    "                                                   if type(mark) == float and not pd.isna(mark)), float(\"nan\")))"
   ],
   "metadata": {
    "collapsed": false,
    "pycharm": {
     "name": "#%%\n"
    }
   }
  },
  {
   "cell_type": "code",
   "execution_count": 357,
   "outputs": [],
   "source": [
    "# add gender\n",
    "\n",
    "names = pd.read_csv(\"data/russian_names.csv\", encoding=\"UTF-8\", sep=\";\")\n",
    "study_df[\"is_fem\"] = students.apply(lambda gr: float(\"nan\")\n",
    "                                if names.loc[names.Name == gr.iloc[0][\"name\"].split()[1]].empty\n",
    "                                else names.loc[names.Name == gr.iloc[0][\"name\"].split()[1]].iloc[0][\"Sex\"] == \"Ж\")"
   ],
   "metadata": {
    "collapsed": false,
    "pycharm": {
     "name": "#%%\n"
    }
   }
  },
  {
   "cell_type": "code",
   "execution_count": 554,
   "outputs": [],
   "source": [
    "# add a feature that takes into account the study grade (bachelor or specialist)\n",
    "study_df[\"is_bac\"] = students.apply(lambda gr: gr.g_obj.map(lambda gobj: gobj.is_bac).any())"
   ],
   "metadata": {
    "collapsed": false,
    "pycharm": {
     "name": "#%%\n"
    }
   }
  },
  {
   "cell_type": "code",
   "execution_count": 946,
   "outputs": [
    {
     "data": {
      "text/plain": "            mean    f_mean  math  mech  phys is_fem    s_mean  is_bac\n08Т157  3.357143  3.000000   3.0   3.0   3.0  False  3.000000   False\n09Т163  4.488372  4.000000   3.0   4.0   4.0  False  4.250000   False\n09Т305  3.204082  3.111111   3.0   3.0   3.0  False  3.083333   False",
      "text/html": "<div>\n<style scoped>\n    .dataframe tbody tr th:only-of-type {\n        vertical-align: middle;\n    }\n\n    .dataframe tbody tr th {\n        vertical-align: top;\n    }\n\n    .dataframe thead th {\n        text-align: right;\n    }\n</style>\n<table border=\"1\" class=\"dataframe\">\n  <thead>\n    <tr style=\"text-align: right;\">\n      <th></th>\n      <th>mean</th>\n      <th>f_mean</th>\n      <th>math</th>\n      <th>mech</th>\n      <th>phys</th>\n      <th>is_fem</th>\n      <th>s_mean</th>\n      <th>is_bac</th>\n    </tr>\n  </thead>\n  <tbody>\n    <tr>\n      <th>08Т157</th>\n      <td>3.357143</td>\n      <td>3.000000</td>\n      <td>3.0</td>\n      <td>3.0</td>\n      <td>3.0</td>\n      <td>False</td>\n      <td>3.000000</td>\n      <td>False</td>\n    </tr>\n    <tr>\n      <th>09Т163</th>\n      <td>4.488372</td>\n      <td>4.000000</td>\n      <td>3.0</td>\n      <td>4.0</td>\n      <td>4.0</td>\n      <td>False</td>\n      <td>4.250000</td>\n      <td>False</td>\n    </tr>\n    <tr>\n      <th>09Т305</th>\n      <td>3.204082</td>\n      <td>3.111111</td>\n      <td>3.0</td>\n      <td>3.0</td>\n      <td>3.0</td>\n      <td>False</td>\n      <td>3.083333</td>\n      <td>False</td>\n    </tr>\n  </tbody>\n</table>\n</div>"
     },
     "execution_count": 946,
     "metadata": {},
     "output_type": "execute_result"
    }
   ],
   "source": [
    "# final dataframe with all features\n",
    "study_df.head(3)"
   ],
   "metadata": {
    "collapsed": false,
    "pycharm": {
     "name": "#%%\n"
    }
   }
  },
  {
   "cell_type": "code",
   "execution_count": 931,
   "outputs": [
    {
     "data": {
      "text/plain": "<Figure size 432x288 with 2 Axes>",
      "image/png": "[encoded data removed]"
     },
     "metadata": {
      "needs_background": "light"
     },
     "output_type": "display_data"
    }
   ],
   "source": [
    "import seaborn as sns\n",
    "\n",
    "# plot heatmap\n",
    "sns.heatmap(study_df.dropna(how=\"any\").corr(), annot = True);"
   ],
   "metadata": {
    "collapsed": false,
    "pycharm": {
     "name": "#%%\n"
    }
   }
  },
  {
   "cell_type": "code",
   "execution_count": 944,
   "outputs": [
    {
     "name": "stdout",
     "output_type": "stream",
     "text": [
      "MSE = 0.03408371602303659\n",
      "MAE = 0.12507804144532053\n"
     ]
    }
   ],
   "source": [
    "from sklearn.tree import DecisionTreeRegressor\n",
    "from sklearn.tree import plot_tree\n",
    "from sklearn.model_selection import train_test_split\n",
    "from sklearn.metrics import mean_squared_error, mean_absolute_error\n",
    "\n",
    "# build the model with all features\n",
    "study = study_df.dropna(how=\"any\")[[\"mean\", \"f_mean\", \"is_bac\", \"math\", \"mech\", \"phys\", \"is_fem\"]]\n",
    "\n",
    "X = study.apply(lambda row: row.iloc[1:].tolist(), axis=1).tolist()\n",
    "y = study[\"mean\"].tolist()\n",
    "\n",
    "X_train, X_test, y_train, y_test = train_test_split(X, y, test_size=0.2)\n",
    "\n",
    "regressor = DecisionTreeRegressor(max_depth=10)\n",
    "\n",
    "regressor.fit(X_train, y_train)\n",
    "print(f\"MSE = {mean_squared_error(y_train, regressor.predict(X_train))}\")\n",
    "print(f\"MAE = {mean_absolute_error(y_train, regressor.predict(X_train))}\")"
   ],
   "metadata": {
    "collapsed": false,
    "pycharm": {
     "name": "#%%\n"
    }
   }
  },
  {
   "cell_type": "code",
   "execution_count": 879,
   "outputs": [
    {
     "data": {
      "text/plain": "array([4.20578901])"
     },
     "execution_count": 879,
     "metadata": {},
     "output_type": "execute_result"
    }
   ],
   "source": [
    "# my true mean mark is 4.35\n",
    "regressor.predict([[4, True, 4, 4, 4, False]])"
   ],
   "metadata": {
    "collapsed": false,
    "pycharm": {
     "name": "#%%\n"
    }
   }
  },
  {
   "cell_type": "code",
   "execution_count": 932,
   "outputs": [
    {
     "data": {
      "text/plain": "<Figure size 432x288 with 1 Axes>",
      "image/png": "[encoded data removed]"
     },
     "metadata": {
      "needs_background": "light"
     },
     "output_type": "display_data"
    }
   ],
   "source": [
    "from sklearn.feature_selection import SelectKBest, SelectPercentile, mutual_info_regression\n",
    "\n",
    "# show feature importance\n",
    "\n",
    "importances = mutual_info_regression(X, y)\n",
    "feature_importances = pd.Series(importances, study.columns[1:])\n",
    "feature_importances.plot(kind='barh', color='teal');"
   ],
   "metadata": {
    "collapsed": false,
    "pycharm": {
     "name": "#%%\n"
    }
   }
  }
 ],
 "metadata": {
  "kernelspec": {
   "display_name": "Python 3",
   "language": "python",
   "name": "python3"
  },
  "language_info": {
   "codemirror_mode": {
    "name": "ipython",
    "version": 2
   },
   "file_extension": ".py",
   "mimetype": "text/x-python",
   "name": "python",
   "nbconvert_exporter": "python",
   "pygments_lexer": "ipython2",
   "version": "2.7.6"
  }
 },
 "nbformat": 4,
 "nbformat_minor": 0
}