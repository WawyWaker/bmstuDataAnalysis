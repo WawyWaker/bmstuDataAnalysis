{
 "cells": [
  {
   "cell_type": "code",
   "execution_count": 9,
   "id": "ebbba34c",
   "metadata": {},
   "outputs": [],
   "source": [
    "from os import listdir\n",
    "from os.path import isfile, join\n",
    "\n",
    "from DataParser import *\n",
    "\n",
    "import os\n",
    "\n",
    "import pandas as pd"
   ]
  },
  {
   "cell_type": "code",
   "execution_count": 11,
   "id": "1f094cc8",
   "metadata": {},
   "outputs": [],
   "source": [
    "data_path = \"data\""
   ]
  },
  {
   "cell_type": "code",
   "execution_count": 40,
   "id": "07399c02",
   "metadata": {},
   "outputs": [],
   "source": [
    "def get_groups(faculty : Faculties) -> list[Group]:\n",
    "    groups = listdir(join(data_path, faculty.value))[1:]\n",
    "    ret = [Group.FromString(gr) for gr in groups]\n",
    "    return ret"
   ]
  },
  {
   "cell_type": "code",
   "execution_count": 17,
   "id": "08690c19",
   "metadata": {},
   "outputs": [],
   "source": [
    "def get_group_df(group : Group) -> pd.DataFrame: \n",
    "    \n",
    "    path = \"{}\\\\{}\\\\{}\".format(data_path, group.faculty.value, group.ToString())\n",
    "    onlyfiles = [f for f in listdir(path) if isfile(join(path, f))]\n",
    "\n",
    "    data = pd.DataFrame()\n",
    "    for f in onlyfiles[:-1]:\n",
    "        df = pd.read_csv(os.path.join(path, f), sep=\"\\t\", index_col=0)\n",
    "        data = pd.concat([data, df])\n",
    "\n",
    "    data = data.reset_index()\n",
    "    data = data.drop(columns=[\"index\"])\n",
    "\n",
    "    return data"
   ]
  },
  {
   "cell_type": "code",
   "execution_count": 67,
   "id": "459e5bc2",
   "metadata": {},
   "outputs": [],
   "source": [
    "# groups = [list(filter(lambda gr: gr.sessionNumber == \"1\", get_groups(f))) for f in Faculties]\n",
    "# groups = [item for sublist in groups for item in sublist]\n",
    "all_mt = pd.concat([get_group_df(gr) for gr in [gr for gr in get_groups(Faculties.MT) if gr.sessionNumber == \"1\"]])\n",
    "\n",
    "# total_df = pd.concat([get_group_df(gr) for gr in groups])"
   ]
  },
  {
   "cell_type": "code",
   "execution_count": null,
   "id": "e9376f81",
   "metadata": {},
   "outputs": [],
   "source": []
  }
 ],
 "metadata": {
  "kernelspec": {
   "display_name": "Python 3 (ipykernel)",
   "language": "python",
   "name": "python3"
  },
  "language_info": {
   "codemirror_mode": {
    "name": "ipython",
    "version": 3
   },
   "file_extension": ".py",
   "mimetype": "text/x-python",
   "name": "python",
   "nbconvert_exporter": "python",
   "pygments_lexer": "ipython3",
   "version": "3.9.6"
  }
 },
 "nbformat": 4,
 "nbformat_minor": 5
}
